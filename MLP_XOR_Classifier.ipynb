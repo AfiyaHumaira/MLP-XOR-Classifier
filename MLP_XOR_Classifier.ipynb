{
  "nbformat": 4,
  "nbformat_minor": 0,
  "metadata": {
    "colab": {
      "provenance": [],
      "authorship_tag": "ABX9TyP6DXaJfrqnDJq7TRAP/TjG",
      "include_colab_link": true
    },
    "kernelspec": {
      "name": "python3",
      "display_name": "Python 3"
    },
    "language_info": {
      "name": "python"
    }
  },
  "cells": [
    {
      "cell_type": "markdown",
      "metadata": {
        "id": "view-in-github",
        "colab_type": "text"
      },
      "source": [
        "<a href=\"https://colab.research.google.com/github/AfiyaHumaira/MLP-XOR-Classifier/blob/main/MLP_XOR_Classifier.ipynb\" target=\"_parent\"><img src=\"https://colab.research.google.com/assets/colab-badge.svg\" alt=\"Open In Colab\"/></a>"
      ]
    },
    {
      "cell_type": "code",
      "execution_count": 12,
      "metadata": {
        "id": "zBRbUMwjO-OB"
      },
      "outputs": [],
      "source": [
        "import numpy as np\n",
        "import matplotlib.pyplot as plt"
      ]
    },
    {
      "cell_type": "code",
      "source": [
        "# XOR Dataset\n",
        "X = np.array([[0,0],[0,1],[1,0],[1,1]])\n",
        "y = np.array([[0],[1],[1],[0]])"
      ],
      "metadata": {
        "id": "A_RdzIwbPEl5"
      },
      "execution_count": 13,
      "outputs": []
    },
    {
      "cell_type": "code",
      "source": [
        "# Activation functions\n",
        "def sigmoid(x):\n",
        "    return 1 / (1 + np.exp(-x))\n",
        "\n",
        "def sigmoid_derivative(output):\n",
        "    return output * (1 - output)\n",
        "\n",
        "def relu(x):\n",
        "    return np.maximum(0, x)\n",
        "\n",
        "def relu_derivative(x):\n",
        "    return (x > 0).astype(float)"
      ],
      "metadata": {
        "id": "_CkfwN-xTFVC"
      },
      "execution_count": 14,
      "outputs": []
    },
    {
      "cell_type": "code",
      "source": [
        "# Configurations (Tunable)\n",
        "activation = 'sigmoid'     # 'sigmoid' or 'relu'\n",
        "learning_rate = 0.1        # Try 0.01, 0.1, 0.5\n",
        "epochs = 5000              # Try 500, 1000, 5000"
      ],
      "metadata": {
        "id": "Jbr790ZkPLAq"
      },
      "execution_count": 15,
      "outputs": []
    },
    {
      "cell_type": "code",
      "source": [
        "# Activation selector\n",
        "act_fn = sigmoid if activation == 'sigmoid' else relu\n",
        "act_deriv = sigmoid_derivative if activation == 'sigmoid' else relu_derivative"
      ],
      "metadata": {
        "id": "EqszITOkTa15"
      },
      "execution_count": 16,
      "outputs": []
    },
    {
      "cell_type": "code",
      "source": [
        "# Weights Initialization\n",
        "np.random.seed(42)\n",
        "W1 = np.random.randn(2, 2)\n",
        "b1 = np.zeros((1, 2))\n",
        "W2 = np.random.randn(2, 1)\n",
        "b2 = np.zeros((1, 1))"
      ],
      "metadata": {
        "id": "8lNOp1QNPMT6"
      },
      "execution_count": 17,
      "outputs": []
    },
    {
      "cell_type": "code",
      "source": [
        "# Training Loop\n",
        "for epoch in range(epochs):\n",
        "    # Forward pass\n",
        "    Z1 = np.dot(X, W1) + b1\n",
        "    A1 = act_fn(Z1)\n",
        "    Z2 = np.dot(A1, W2) + b2\n",
        "    A2 = sigmoid(Z2)\n",
        "\n",
        "    # Compute loss (MSE)\n",
        "    loss = np.mean((y - A2)**2)\n",
        "\n",
        "    # Backward pass\n",
        "    dA2 = (y - A2) * sigmoid_derivative(A2)\n",
        "    dW2 = np.dot(A1.T, dA2)\n",
        "    db2 = np.sum(dA2, axis=0, keepdims=True)\n",
        "\n",
        "    dA1 = np.dot(dA2, W2.T) * act_deriv(A1)\n",
        "    dW1 = np.dot(X.T, dA1)\n",
        "    db1 = np.sum(dA1, axis=0, keepdims=True)\n",
        "\n",
        "    # Update weights and biases\n",
        "    W2 += learning_rate * dW2\n",
        "    b2 += learning_rate * db2\n",
        "    W1 += learning_rate * dW1\n",
        "    b1 += learning_rate * db1"
      ],
      "metadata": {
        "id": "IyjPGvAYPZxX"
      },
      "execution_count": 18,
      "outputs": []
    },
    {
      "cell_type": "code",
      "source": [
        "# Final Predictions\n",
        "Z1 = np.dot(X, W1) + b1\n",
        "A1 = act_fn(Z1)\n",
        "Z2 = np.dot(A1, W2) + b2\n",
        "output_probs = sigmoid(Z2)\n",
        "output_preds = (output_probs > 0.5).astype(int)\n",
        "\n",
        "# Print final predictions\n",
        "print(\"Expected:  \", y.ravel())\n",
        "print(\"Predicted: \", output_preds.ravel())\n",
        "\n",
        "# Evaluation Metrics from Scratch\n",
        "def evaluate_metrics(y_true, y_pred, y_prob):\n",
        "    TP = np.sum((y_true == 1) & (y_pred == 1))\n",
        "    TN = np.sum((y_true == 0) & (y_pred == 0))\n",
        "    FP = np.sum((y_true == 0) & (y_pred == 1))\n",
        "    FN = np.sum((y_true == 1) & (y_pred == 0))\n",
        "\n",
        "    accuracy = (TP + TN) / len(y_true)\n",
        "    precision = TP / (TP + FP + 1e-8)\n",
        "    recall = TP / (TP + FN + 1e-8)\n",
        "    f1 = 2 * precision * recall / (precision + recall + 1e-8)\n",
        "\n",
        "    print(\"\\nEvaluation Metrics:\")\n",
        "    print(f\"Accuracy:  {accuracy:.2f}\")\n",
        "    print(f\"Precision: {precision:.2f}\")\n",
        "    print(f\"Recall:    {recall:.2f}\")\n",
        "    print(f\"F1 Score:  {f1:.2f}\")\n",
        "\n",
        "    # ROC Curve\n",
        "    thresholds = np.linspace(0, 1, 100)\n",
        "    tpr_list, fpr_list = [], []\n",
        "\n",
        "    for t in thresholds:\n",
        "        preds = (y_prob >= t).astype(int)\n",
        "        TP = np.sum((y_true == 1) & (preds == 1))\n",
        "        TN = np.sum((y_true == 0) & (preds == 0))\n",
        "        FP = np.sum((y_true == 0) & (preds == 1))\n",
        "        FN = np.sum((y_true == 1) & (preds == 0))\n",
        "        TPR = TP / (TP + FN + 1e-8)\n",
        "        FPR = FP / (FP + TN + 1e-8)\n",
        "        tpr_list.append(TPR)\n",
        "        fpr_list.append(FPR)\n",
        "\n",
        "    plt.plot(fpr_list, tpr_list)\n",
        "    plt.title(\"ROC Curve\")\n",
        "    plt.xlabel(\"False Positive Rate\")\n",
        "    plt.ylabel(\"True Positive Rate\")\n",
        "    plt.grid()\n",
        "    plt.show()\n",
        "\n",
        "evaluate_metrics(y.ravel(), output_preds.ravel(), output_probs.ravel())"
      ],
      "metadata": {
        "colab": {
          "base_uri": "https://localhost:8080/",
          "height": 611
        },
        "id": "CFYHiKThPj6i",
        "outputId": "802cf5f9-405d-409c-e87c-eb379591701a"
      },
      "execution_count": 19,
      "outputs": [
        {
          "output_type": "stream",
          "name": "stdout",
          "text": [
            "Expected:   [0 1 1 0]\n",
            "Predicted:  [0 0 1 1]\n",
            "\n",
            "Evaluation Metrics:\n",
            "Accuracy:  0.50\n",
            "Precision: 0.50\n",
            "Recall:    0.50\n",
            "F1 Score:  0.50\n"
          ]
        },
        {
          "output_type": "display_data",
          "data": {
            "text/plain": [
              "<Figure size 640x480 with 1 Axes>"
            ],
            "image/png": "[encoded data removed]"
          },
          "metadata": {}
        }
      ]
    }
  ]
}